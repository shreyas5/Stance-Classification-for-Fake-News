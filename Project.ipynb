{
  "cells": [
    {
      "cell_type": "markdown",
      "metadata": {
        "colab_type": "text",
        "id": "GORYL5x60BSd"
      },
      "source": [
        "### Uploading the CSV files"
      ]
    },
    {
      "cell_type": "code",
      "execution_count": 1,
      "metadata": {
        "colab": {
          "autoexec": {
            "startup": false,
            "wait_interval": 0
          },
          "base_uri": "https://localhost:8080/",
          "height": 140,
          "resources": {
            "http://localhost:8080/nbextensions/google.colab/files.js": {
              "data": "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",
              "headers": [
                [
                  "content-type",
                  "application/javascript"
                ]
              ],
              "ok": true,
              "status": 200,
              "status_text": ""
            }
          }
        },
        "colab_type": "code",
        "executionInfo": {
          "elapsed": 306651,
          "status": "ok",
          "timestamp": 1528777436639,
          "user": {
            "displayName": "Shreyas Shridhar",
            "photoUrl": "//lh6.googleusercontent.com/-pJUNu9HxACg/AAAAAAAAAAI/AAAAAAAAAF0/BxOxcRdX5ak/s50-c-k-no/photo.jpg",
            "userId": "117675562242009729657"
          },
          "user_tz": -330
        },
        "id": "Hh0QApFxrbZY",
        "outputId": "27246283-9bf0-4b83-f780-ec072483c179"
      },
      "outputs": [
        {
          "data": {
            "text/html": [
              "\n",
              "     <input type=\"file\" id=\"files-c6307f47-5766-411a-84fd-7ee35a7b8e7e\" name=\"files[]\" multiple disabled />\n",
              "     <output id=\"result-c6307f47-5766-411a-84fd-7ee35a7b8e7e\">\n",
              "      Upload widget is only available when the cell has been executed in the\n",
              "      current browser session. Please rerun this cell to enable.\n",
              "      </output>\n",
              "      <script src=\"/nbextensions/google.colab/files.js\"></script> "
            ],
            "text/plain": [
              "<IPython.core.display.HTML object>"
            ]
          },
          "metadata": {
            "tags": []
          },
          "output_type": "display_data"
        },
        {
          "name": "stdout",
          "output_type": "stream",
          "text": [
            "Saving train_bodies.csv to train_bodies.csv\n",
            "Saving train_stances.csv to train_stances.csv\n",
            "User uploaded file \"train_bodies.csv\" with length 3790028 bytes\n",
            "User uploaded file \"train_stances.csv\" with length 4305273 bytes\n"
          ]
        }
      ],
      "source": [
        "from google.colab import files\n",
        "\n",
        "uploaded = files.upload()\n",
        "\n",
        "for fn in uploaded.keys(): print('User uploaded file \"{name}\" with length {length} bytes'.format(name=fn, length=len(uploaded[fn])))"
      ]
    },
    {
      "cell_type": "markdown",
      "metadata": {
        "colab_type": "text",
        "id": "MjOW87ED0L75"
      },
      "source": [
        "### Reading from CSV"
      ]
    },
    {
      "cell_type": "code",
      "execution_count": 4,
      "metadata": {
        "colab": {
          "autoexec": {
            "startup": false,
            "wait_interval": 0
          },
          "base_uri": "https://localhost:8080/",
          "height": 2193
        },
        "colab_type": "code",
        "executionInfo": {
          "elapsed": 1141,
          "status": "ok",
          "timestamp": 1528282169859,
          "user": {
            "displayName": "Shreyas Shridhar",
            "photoUrl": "//lh6.googleusercontent.com/-pJUNu9HxACg/AAAAAAAAAAI/AAAAAAAAAF0/BxOxcRdX5ak/s50-c-k-no/photo.jpg",
            "userId": "117675562242009729657"
          },
          "user_tz": -330
        },
        "id": "tnhbVNvQJlrs",
        "outputId": "793219ec-2d03-4b64-984b-a1695d06d6b8"
      },
      "outputs": [
        {
          "name": "stdout",
          "output_type": "stream",
          "text": [
            "                                                Headline  Body ID     Stance\n",
            "0      Police find mass graves with at least '15 bodi...      712  unrelated\n",
            "1      Hundreds of Palestinians flee floods in Gaza a...      158      agree\n",
            "2      Christian Bale passes on role of Steve Jobs, a...      137  unrelated\n",
            "3      HBO and Apple in Talks for $15/Month Apple TV ...     1034  unrelated\n",
            "4      Spider burrowed through tourist's stomach and ...     1923   disagree\n",
            "5      'Nasa Confirms Earth Will Experience 6 Days of...      154      agree\n",
            "6      Accused Boston Marathon Bomber Severely Injure...      962  unrelated\n",
            "7      Identity of ISIS terrorist known as 'Jihadi Jo...     2033  unrelated\n",
            "8      Banksy 'Arrested & Real Identity Revealed' Is ...     1739      agree\n",
            "9          British Aid Worker Confirmed Murdered By ISIS      882  unrelated\n",
            "10                                        Gateway Pundit     2327    discuss\n",
            "11     Woman detained in Lebanon is not al-Baghdadi's...     1468      agree\n",
            "12     Kidnapped Nigerian schoolgirls: Government cla...     1003  unrelated\n",
            "13     No, that high school kid didn't make $72 milli...     2132  unrelated\n",
            "14     Soon Marijuana May Lead to Ticket, Not Arrest,...       47    discuss\n",
            "15     Vandals add rude paint job to $2.5m Bugatti (b...      615  unrelated\n",
            "16            Boko Haram Denies Nigeria Cease-Fire Claim     2463    discuss\n",
            "17     No, Robert Plant Didn’t Rip Up an $800 Million...      295      agree\n",
            "18          N. Korea’s Kim has leg injury but in control      570  unrelated\n",
            "19         ISIL Beheads American Photojournalist in Iraq      608    discuss\n",
            "20     Tropical spider burrows under man's skin throu...     1500  unrelated\n",
            "21     Boko Haram ceasefire ignored as violence flare...     1681    discuss\n",
            "22     NBC's Tom Brokaw reportedly wants Brian Willia...     1545  unrelated\n",
            "23     Would you take a bite out of the world's oldes...     1196  unrelated\n",
            "24     NET Extra: Back-from-the-dead Catholic priest ...     1014      agree\n",
            "25     Rumor debunked: RoboCop-style robots are not p...      633      agree\n",
            "26     Luke Somers Dies In Rescue Attempt, Sister Say...       56  unrelated\n",
            "27     Christian Bale Exits Steve Jobs Movie (Exclusive)     1658  unrelated\n",
            "28     Microsoft Tried Out Robot Security Guards on I...     2327  unrelated\n",
            "29     Report: Christian Bale Just Bailed on the Stev...     1157    discuss\n",
            "...                                                  ...      ...        ...\n",
            "49942  British Man Slaps People If They Sneeze In Public      195  unrelated\n",
            "49943  Zack Snyder Kills \"Stolen Batmobile\" Rumor Wit...      702  unrelated\n",
            "49944  6 hidden mass graves may hold missing Mexican ...     1912    discuss\n",
            "49945  Kayla Jean Mueller, U.S. hostage, killed in Jo...     2473  unrelated\n",
            "49946  Boko Haram denies truce to release kidnapped s...     2191    discuss\n",
            "49947  Another American hostage at risk by Islamic state     1361  unrelated\n",
            "49948  Conde Nast's rat problem at One World Trade Ce...      639  unrelated\n",
            "49949  Has North Korean dictator Kim Jong-un been rep...     2477    discuss\n",
            "49950           Isis claims it has US airdrop of weapons     2016  unrelated\n",
            "49951  CNN plays chilling audio recording allegedly f...     1289  unrelated\n",
            "49952      WHO ‘probing’ whether ISIS fighters got Ebola        5  unrelated\n",
            "49953  Magic Mushrooms Found on Buckingham Palace Gro...     1849  unrelated\n",
            "49954  New policy could reduce marijuana possession a...      932  unrelated\n",
            "49955  James Foley remembered as 'brave and tireless'...     1873  unrelated\n",
            "49956  NYPD to stop arresting for low-level marijuana...     2389    discuss\n",
            "49957  Guantanamo detainee freed in Bowe Bergdahl swa...     1806  unrelated\n",
            "49958         Met police denies reports of Banksy arrest     2283  unrelated\n",
            "49959  Wildest Apple Watch rumor yet: 100,000 apps at...     1826  unrelated\n",
            "49960   'Hairgate': iPhone hit by new social media storm     2303  unrelated\n",
            "49961  Nicaraguan commission on possible meteorite cr...     1795  unrelated\n",
            "49962     Would-be rapist has penis severed by angry mob       36  unrelated\n",
            "49963  Nigeria claims deal with Boko Haram on ceasefi...     2078  unrelated\n",
            "49964  'Banksy' Reacts To Paris Attack With Poignant ...      438  unrelated\n",
            "49965  Indian 'Rapist' Castrated By Angry Mob Who Hac...     1760  unrelated\n",
            "49966  Canadian Soldier Shot At Ottawa War Memorial: ...      524  unrelated\n",
            "49967  Urgent: The Leader of ISIL 'Abu Bakr al-Baghda...     1681  unrelated\n",
            "49968  Brian Williams slams social media for speculat...     2419  unrelated\n",
            "49969  Mexico Says Missing Students Not Found In Firs...     1156      agree\n",
            "49970  US Lawmaker: Ten ISIS Fighters Have Been Appre...     1012    discuss\n",
            "49971  Shots Heard In Alleged Brown Shooting Recordin...     2044  unrelated\n",
            "\n",
            "[49972 rows x 3 columns]\n",
            "      Body ID                                        articleBody\n",
            "0           0  A small meteorite crashed into a wooded area i...\n",
            "1           4  Last week we hinted at what was to come as Ebo...\n",
            "2           5  (NEWSER) – Wonder how long a Quarter Pounder w...\n",
            "3           6  Posting photos of a gun-toting child online, I...\n",
            "4           7  At least 25 suspected Boko Haram insurgents we...\n",
            "5           8  There is so much fake stuff on the Internet in...\n",
            "6           9  (CNN) -- A meteorite crashed down in Managua, ...\n",
            "7          10  Move over, Netflix and Hulu.\\r\\nWord has it th...\n",
            "8          11  We’ve all seen the traditional depictions of G...\n",
            "9          13  A SOLDIER has been shot at Canada’s National W...\n",
            "10         14  mboxCreate('FoxNews-Politics-Autoplay-Videos-I...\n",
            "11         15  Don't fucking cheat on Cassy, aka @NessLovnTre...\n",
            "12         16  Kai the shar pei-crossbreed was discovered tie...\n",
            "13         17  An article saying NASA confirmed six days of “...\n",
            "14         18  Italian fisherman Dino Ferrari landed what cou...\n",
            "15         22  HBO's subscription streaming service will be c...\n",
            "16         23  In a sprawling Facebook post and subsequent in...\n",
            "17         24  Macaulay Culkin is not dead. The actor is just...\n",
            "18         25  DUBAI - A prominent Saudi Arabian cleric has w...\n",
            "19         26  Eran Cicurel, an editor at Voice of Israel, ha...\n",
            "20         27  Phoenix, AZ — A Phoenix boy is behind bars ton...\n",
            "21         29  Abdel-Majed Abdel Bary is a former West London...\n",
            "22         30  DNA tests confirm Lebanon is holding the young...\n",
            "23         32  FERGUSON, St. Louis (CNN) — Could a newly rele...\n",
            "24         34  Abdel-Majed Abdel Bary, who went by the rap na...\n",
            "25         35  New Delhi: AK Verma, an executive engineer at ...\n",
            "26         36  The London Metropolitan Police has denied repo...\n",
            "27         40  Young North Korean dictator Kim Jong Un’s heal...\n",
            "28         41  Although Apple has given us our first peek at ...\n",
            "29         43  The small town of Purdon, Texas has been quara...\n",
            "...       ...                                                ...\n",
            "1653     2483  Offers have been pouring in to re-home a dog f...\n",
            "1654     2485  Although Apple has given us our first peek at ...\n",
            "1655     2489  Sorry to disappoint, fans of Led Zeppelin, but...\n",
            "1656     2490  While other global leaders rant their exaspera...\n",
            "1657     2492  SAN SEVERINO - Go to the hospital accusing a t...\n",
            "1658     2495  Islamic State militants appear to have killed ...\n",
            "1659     2496  Warning graphic image: Oliver Ilic, 22, had to...\n",
            "1660     2497  If 9to5Mac’s latest findings are true, than Ap...\n",
            "1661     2498  In case you missed it, Vogue Magazine, one of ...\n",
            "1662     2501  In response to Ebola Scare in Kansas City :\\r\\...\n",
            "1663     2502  News that the ‘Home Alone’ star has allegedly ...\n",
            "1664     2504  Seven girls aged between 13 and 14 have fallen...\n",
            "1665     2506  Fidel Castro was pronounced dead on Twitter so...\n",
            "1666     2508  28 girls, aged 13 and 14, from a small town we...\n",
            "1667     2509  BEIRUT — Islamic State group fighters seized a...\n",
            "1668     2511  The weather man was reporting from Sugar Mount...\n",
            "1669     2514  So… Rebecca Schoenkopf over at Wonkette is pre...\n",
            "1670     2515  Et si Dieu était une femme? C'est ce qu'affirm...\n",
            "1671     2519  On Friday, a rumor cropped up that one of the ...\n",
            "1672     2520  Anna Wintour, editor-in-chief on Vogue magazin...\n",
            "1673     2521  The hoax story has been circulating far and wi...\n",
            "1674     2523  THE hunt is on to find the owner of a dog who ...\n",
            "1675     2524  President Obama said Wednesday that the United...\n",
            "1676     2525  Oh Internet, when will you ever stop killing p...\n",
            "1677     2526  Update: Since the publication of this article,...\n",
            "1678     2528  Intelligence agencies hunting for identity of ...\n",
            "1679     2529  While Daleks \"know no fear\" and \"must not fear...\n",
            "1680     2530  More than 200 schoolgirls were kidnapped in Ap...\n",
            "1681     2531  A Guantanamo Bay prisoner released last year a...\n",
            "1682     2532  ANN ARBOR, Mich. – A pizza delivery man in Mic...\n",
            "\n",
            "[1683 rows x 2 columns]\n"
          ]
        }
      ],
      "source": [
        "import pandas as pd\n",
        "import numpy as np\n",
        "\n",
        "df_train_stances = pd.read_csv('train_stances.csv')\n",
        "df_train_bodies = pd.read_csv('train_bodies.csv')\n",
        "\n",
        "stance = df_train_stances['Stance'].values\n",
        "print(df_train_stances)\n",
        "print(df_train_bodies)"
      ]
    },
    {
      "cell_type": "code",
      "execution_count": 5,
      "metadata": {
        "colab": {
          "autoexec": {
            "startup": false,
            "wait_interval": 0
          },
          "base_uri": "https://localhost:8080/",
          "height": 204
        },
        "colab_type": "code",
        "executionInfo": {
          "elapsed": 745,
          "status": "ok",
          "timestamp": 1528282171069,
          "user": {
            "displayName": "Shreyas Shridhar",
            "photoUrl": "//lh6.googleusercontent.com/-pJUNu9HxACg/AAAAAAAAAAI/AAAAAAAAAF0/BxOxcRdX5ak/s50-c-k-no/photo.jpg",
            "userId": "117675562242009729657"
          },
          "user_tz": -330
        },
        "id": "d01YjRFwZBQH",
        "outputId": "178f23bb-1a9e-49e1-b0e2-ea932724b71a"
      },
      "outputs": [
        {
          "data": {
            "text/html": [
              "<div>\n",
              "<style scoped>\n",
              "    .dataframe tbody tr th:only-of-type {\n",
              "        vertical-align: middle;\n",
              "    }\n",
              "\n",
              "    .dataframe tbody tr th {\n",
              "        vertical-align: top;\n",
              "    }\n",
              "\n",
              "    .dataframe thead th {\n",
              "        text-align: right;\n",
              "    }\n",
              "</style>\n",
              "<table border=\"1\" class=\"dataframe\">\n",
              "  <thead>\n",
              "    <tr style=\"text-align: right;\">\n",
              "      <th></th>\n",
              "      <th>Headline</th>\n",
              "      <th>Body ID</th>\n",
              "      <th>Stance</th>\n",
              "      <th>text</th>\n",
              "    </tr>\n",
              "  </thead>\n",
              "  <tbody>\n",
              "    <tr>\n",
              "      <th>0</th>\n",
              "      <td>Police find mass graves with at least '15 bodi...</td>\n",
              "      <td>Danny Boyle is directing the untitled film\\r\\n...</td>\n",
              "      <td>unrelated</td>\n",
              "      <td>Police find mass graves with at least '15 bodi...</td>\n",
              "    </tr>\n",
              "    <tr>\n",
              "      <th>1</th>\n",
              "      <td>Hundreds of Palestinians flee floods in Gaza a...</td>\n",
              "      <td>Hundreds of Palestinians were evacuated from t...</td>\n",
              "      <td>agree</td>\n",
              "      <td>Hundreds of Palestinians flee floods in Gaza a...</td>\n",
              "    </tr>\n",
              "    <tr>\n",
              "      <th>2</th>\n",
              "      <td>Christian Bale passes on role of Steve Jobs, a...</td>\n",
              "      <td>30-year-old Moscow resident was hospitalized w...</td>\n",
              "      <td>unrelated</td>\n",
              "      <td>Christian Bale passes on role of Steve Jobs, a...</td>\n",
              "    </tr>\n",
              "    <tr>\n",
              "      <th>3</th>\n",
              "      <td>HBO and Apple in Talks for $15/Month Apple TV ...</td>\n",
              "      <td>(Reuters) - A Canadian soldier was shot at the...</td>\n",
              "      <td>unrelated</td>\n",
              "      <td>HBO and Apple in Talks for $15/Month Apple TV ...</td>\n",
              "    </tr>\n",
              "    <tr>\n",
              "      <th>4</th>\n",
              "      <td>Spider burrowed through tourist's stomach and ...</td>\n",
              "      <td>Fear not arachnophobes, the story of Bunbury's...</td>\n",
              "      <td>disagree</td>\n",
              "      <td>Spider burrowed through tourist's stomach and ...</td>\n",
              "    </tr>\n",
              "  </tbody>\n",
              "</table>\n",
              "</div>"
            ],
            "text/plain": [
              "                                            Headline  \\\n",
              "0  Police find mass graves with at least '15 bodi...   \n",
              "1  Hundreds of Palestinians flee floods in Gaza a...   \n",
              "2  Christian Bale passes on role of Steve Jobs, a...   \n",
              "3  HBO and Apple in Talks for $15/Month Apple TV ...   \n",
              "4  Spider burrowed through tourist's stomach and ...   \n",
              "\n",
              "                                             Body ID     Stance  \\\n",
              "0  Danny Boyle is directing the untitled film\\r\\n...  unrelated   \n",
              "1  Hundreds of Palestinians were evacuated from t...      agree   \n",
              "2  30-year-old Moscow resident was hospitalized w...  unrelated   \n",
              "3  (Reuters) - A Canadian soldier was shot at the...  unrelated   \n",
              "4  Fear not arachnophobes, the story of Bunbury's...   disagree   \n",
              "\n",
              "                                                text  \n",
              "0  Police find mass graves with at least '15 bodi...  \n",
              "1  Hundreds of Palestinians flee floods in Gaza a...  \n",
              "2  Christian Bale passes on role of Steve Jobs, a...  \n",
              "3  HBO and Apple in Talks for $15/Month Apple TV ...  \n",
              "4  Spider burrowed through tourist's stomach and ...  "
            ]
          },
          "execution_count": 5,
          "metadata": {
            "tags": []
          },
          "output_type": "execute_result"
        }
      ],
      "source": [
        "df_train_stances['Body ID'] = df_train_stances['Body ID'].map(df_train_bodies.set_index('Body ID')['articleBody'])\n",
        "df_train_stances['text'] = df_train_stances['Headline'] + ' ' + df_train_stances['Body ID']\n",
        "\n",
        "df_train_stances.head()"
      ]
    },
    {
      "cell_type": "code",
      "execution_count": 6,
      "metadata": {
        "colab": {
          "autoexec": {
            "startup": false,
            "wait_interval": 0
          },
          "base_uri": "https://localhost:8080/",
          "height": 413
        },
        "colab_type": "code",
        "executionInfo": {
          "elapsed": 1229,
          "status": "ok",
          "timestamp": 1528264880193,
          "user": {
            "displayName": "Rohith Gramani",
            "photoUrl": "https://lh3.googleusercontent.com/a/default-user=s128",
            "userId": "116081858450757398800"
          },
          "user_tz": -330
        },
        "id": "n6A2Ti2qWq8M",
        "outputId": "d408dbee-4090-493d-ad5b-fcaa3d1df0b1"
      },
      "outputs": [
        {
          "name": "stdout",
          "output_type": "stream",
          "text": [
            "['unrelated' 'agree' 'disagree' 'discuss']\n",
            "36545 3678 840 8909\n"
          ]
        },
        {
          "data": {
            "image/png": "[encoded data removed]",
            "text/plain": [
              "<matplotlib.figure.Figure at 0x7f5ff8853dd8>"
            ]
          },
          "metadata": {
            "tags": []
          },
          "output_type": "display_data"
        }
      ],
      "source": [
        "agree = 0\n",
        "unrelated = 0\n",
        "disagree = 0\n",
        "discuss = 0\n",
        "\n",
        "print(df_train_stances['Stance'].unique())\n",
        "\n",
        "for stance in df_train_stances['Stance']:\n",
        "  if stance == 'agree':\n",
        "    agree += 1\n",
        "  elif stance == 'disagree':\n",
        "    disagree += 1\n",
        "  elif stance == 'unrelated':\n",
        "    unrelated += 1\n",
        "  else:\n",
        "    discuss += 1\n",
        "\n",
        "print(unrelated, agree, disagree, discuss)\n",
        "\n",
        "import matplotlib.pyplot as plt\n",
        "\n",
        "categories = ['unrelated', 'agree', 'disagree', 'discuss']\n",
        "index = np.arange(len(categories))\n",
        "values = [36545, 3678, 840, 8909]\n",
        "\n",
        "plt.bar(categories, values)\n",
        "plt.title('Stance Categories')\n",
        "plt.xlabel('Stance')\n",
        "plt.ylabel('Nubmber of Stance')\n",
        "plt.show()"
      ]
    },
    {
      "cell_type": "markdown",
      "metadata": {
        "colab_type": "text",
        "id": "EcnKvvP1z9PS"
      },
      "source": [
        "## Preprocessing"
      ]
    },
    {
      "cell_type": "code",
      "execution_count": 6,
      "metadata": {
        "cellView": "code",
        "colab": {
          "autoexec": {
            "startup": false,
            "wait_interval": 0
          },
          "base_uri": "https://localhost:8080/",
          "height": 156
        },
        "colab_type": "code",
        "executionInfo": {
          "elapsed": 6415,
          "status": "ok",
          "timestamp": 1528282177914,
          "user": {
            "displayName": "Shreyas Shridhar",
            "photoUrl": "//lh6.googleusercontent.com/-pJUNu9HxACg/AAAAAAAAAAI/AAAAAAAAAF0/BxOxcRdX5ak/s50-c-k-no/photo.jpg",
            "userId": "117675562242009729657"
          },
          "user_tz": -330
        },
        "id": "ypBNnzFek4w8",
        "outputId": "5b674238-3261-4ffe-e87a-3bd1591447b9"
      },
      "outputs": [
        {
          "name": "stdout",
          "output_type": "stream",
          "text": [
            "Collecting progressbar2\n",
            "  Downloading https://files.pythonhosted.org/packages/4f/6f/acb2dd76f2c77527584bd3a4c2509782bb35c481c610521fc3656de5a9e0/progressbar2-3.38.0-py2.py3-none-any.whl\n",
            "Collecting python-utils>=2.3.0 (from progressbar2)\n",
            "  Downloading https://files.pythonhosted.org/packages/eb/a0/19119d8b7c05be49baf6c593f11c432d571b70d805f2fe94c0585e55e4c8/python_utils-2.3.0-py2.py3-none-any.whl\n",
            "Requirement already satisfied: six in /usr/local/lib/python3.6/dist-packages (from progressbar2) (1.11.0)\n",
            "Installing collected packages: python-utils, progressbar2\n",
            "Successfully installed progressbar2-3.38.0 python-utils-2.3.0\n"
          ]
        }
      ],
      "source": [
        "!pip install -q inflect\n",
        "!pip install progressbar2\n",
        "import inflect\n",
        "import re, string, unicodedata\n",
        "import nltk\n",
        "from nltk.corpus import stopwords\n",
        "from nltk import word_tokenize, sent_tokenize\n",
        "from nltk.stem import LancasterStemmer, WordNetLemmatizer\n",
        "import pandas as pd\n",
        "from nltk.stem.snowball import SnowballStemmer\n",
        "import progressbar\n",
        "\n",
        "text = df_train_stances['text'].values\n",
        "\n",
        "def remove_non_ascii(words):\n",
        "  \"\"\"Remove non-ASCII characters from list of tokenized words\"\"\"\n",
        "  str = ''\n",
        "  for word in words:\n",
        "    new_word = unicodedata.normalize('NFKD', word).encode('ascii', 'ignore').decode('utf-8', 'ignore')\n",
        "    str += new_word\n",
        "  return str\n",
        "\n",
        "def remove_punctuation(words):\n",
        "  \"\"\"Remove punctuation from list of tokenized words\"\"\"\n",
        "  str = ''\n",
        "  for word in words:\n",
        "    new_word = re.sub(r'[^\\w\\s]', '', word)\n",
        "    if new_word != '':\n",
        "      str += new_word\n",
        "  return str\n",
        "\n",
        "def replace_numbers(words):\n",
        "  \"\"\"Replace all interger occurrences in list of tokenized words with textual representation\"\"\"\n",
        "  p = inflect.engine()\n",
        "  str = ''\n",
        "  for word in words:\n",
        "    if word.isdigit():\n",
        "      new_word = p.number_to_words(word)\n",
        "      str += new_word\n",
        "    else:\n",
        "      str += word\n",
        "  return str\n",
        "\n",
        "def stemming(words):\n",
        "  str = ''\n",
        "  stemmer = SnowballStemmer(\"english\")\n",
        "\n",
        "  for word in words:\n",
        "    stem = stemmer.stem(word)\n",
        "    str += stem\n",
        "  return str\n",
        "\n",
        "def normalize(words):\n",
        "  words = remove_non_ascii(words)\n",
        "  words = remove_punctuation(words)\n",
        "  words = replace_numbers(words)\n",
        "#   words = stemming(words)\n",
        "  return words\n"
      ]
    },
    {
      "cell_type": "code",
      "execution_count": 7,
      "metadata": {
        "colab": {
          "autoexec": {
            "startup": false,
            "wait_interval": 0
          },
          "base_uri": "https://localhost:8080/",
          "height": 34
        },
        "colab_type": "code",
        "executionInfo": {
          "elapsed": 245137,
          "status": "ok",
          "timestamp": 1528282423104,
          "user": {
            "displayName": "Shreyas Shridhar",
            "photoUrl": "//lh6.googleusercontent.com/-pJUNu9HxACg/AAAAAAAAAAI/AAAAAAAAAF0/BxOxcRdX5ak/s50-c-k-no/photo.jpg",
            "userId": "117675562242009729657"
          },
          "user_tz": -330
        },
        "id": "5WL9MZPYI-el",
        "outputId": "8a36df68-650e-43e5-a616-a4012a454cc8"
      },
      "outputs": [
        {
          "name": "stderr",
          "output_type": "stream",
          "text": [
            "100% (49972 of 49972) |##################| Elapsed Time: 0:04:04 Time:  0:04:04\n"
          ]
        }
      ],
      "source": [
        "normalized_text = []\n",
        "\n",
        "for sentence in progressbar.progressbar(text):\n",
        "  normalized_sentence = normalize(sentence)\n",
        "  normalized_text.append(normalized_sentence)\n"
      ]
    },
    {
      "cell_type": "code",
      "execution_count": 8,
      "metadata": {
        "colab": {
          "autoexec": {
            "startup": false,
            "wait_interval": 0
          },
          "base_uri": "https://localhost:8080/",
          "height": 34
        },
        "colab_type": "code",
        "executionInfo": {
          "elapsed": 20607,
          "status": "ok",
          "timestamp": 1528282443796,
          "user": {
            "displayName": "Shreyas Shridhar",
            "photoUrl": "//lh6.googleusercontent.com/-pJUNu9HxACg/AAAAAAAAAAI/AAAAAAAAAF0/BxOxcRdX5ak/s50-c-k-no/photo.jpg",
            "userId": "117675562242009729657"
          },
          "user_tz": -330
        },
        "id": "zWQxkxxlen7K",
        "outputId": "0e306f4e-ee67-4d89-fb98-8f918ecea6c5"
      },
      "outputs": [
        {
          "name": "stdout",
          "output_type": "stream",
          "text": [
            "(49972, 236304)\n"
          ]
        }
      ],
      "source": [
        "from sklearn.feature_extraction.text import CountVectorizer\n",
        "count_vect = CountVectorizer(stop_words='english', analyzer='word', lowercase=True, ngram_range=(2, 2))\n",
        "\n",
        "text_count = count_vect.fit_transform(normalized_text)\n",
        "print(text_count.shape)\n",
        "# print(text_count)"
      ]
    },
    {
      "cell_type": "code",
      "execution_count": 9,
      "metadata": {
        "colab": {
          "autoexec": {
            "startup": false,
            "wait_interval": 0
          },
          "base_uri": "https://localhost:8080/",
          "height": 34
        },
        "colab_type": "code",
        "executionInfo": {
          "elapsed": 2086,
          "status": "ok",
          "timestamp": 1528282446030,
          "user": {
            "displayName": "Shreyas Shridhar",
            "photoUrl": "//lh6.googleusercontent.com/-pJUNu9HxACg/AAAAAAAAAAI/AAAAAAAAAF0/BxOxcRdX5ak/s50-c-k-no/photo.jpg",
            "userId": "117675562242009729657"
          },
          "user_tz": -330
        },
        "id": "0rtHCTg3epad",
        "outputId": "ac4b6866-e698-43c1-d159-e4c5f217b302"
      },
      "outputs": [
        {
          "name": "stdout",
          "output_type": "stream",
          "text": [
            "(49972, 236304)\n"
          ]
        }
      ],
      "source": [
        "from sklearn.feature_extraction.text import TfidfTransformer\n",
        "tfidf_transformer = TfidfTransformer()\n",
        "\n",
        "text_tfidf = tfidf_transformer.fit_transform(text_count)\n",
        "print(text_tfidf.shape)\n",
        "# print(text_tfidf)"
      ]
    },
    {
      "cell_type": "markdown",
      "metadata": {
        "colab_type": "text",
        "id": "a0Wi5uht4uZo"
      },
      "source": [
        "## Train Test Split"
      ]
    },
    {
      "cell_type": "code",
      "execution_count": null,
      "metadata": {
        "colab": {
          "autoexec": {
            "startup": false,
            "wait_interval": 0
          }
        },
        "colab_type": "code",
        "id": "FSMv6vq9Sjf6"
      },
      "outputs": [],
      "source": [
        "from sklearn.model_selection import train_test_split\n",
        "\n",
        "X_train, X_test, y_train, y_test = train_test_split(text_tfidf, stance, random_state=0, test_size=0.20)"
      ]
    },
    {
      "cell_type": "markdown",
      "metadata": {
        "colab_type": "text",
        "id": "Jh4Hq5N3g7uN"
      },
      "source": [
        "# MultinomialNB"
      ]
    },
    {
      "cell_type": "code",
      "execution_count": 29,
      "metadata": {
        "cellView": "code",
        "colab": {
          "autoexec": {
            "startup": false,
            "wait_interval": 0
          },
          "base_uri": "https://localhost:8080/",
          "height": 54
        },
        "colab_type": "code",
        "executionInfo": {
          "elapsed": 1270,
          "status": "ok",
          "timestamp": 1527086056816,
          "user": {
            "displayName": "Rohith Gramani",
            "photoUrl": "https://lh3.googleusercontent.com/a/default-user=s128",
            "userId": "116081858450757398800"
          },
          "user_tz": -330
        },
        "id": "1hnJ8RIvl7iU",
        "outputId": "ccda988e-d92d-41e7-b180-7e6c9c04d8bf"
      },
      "outputs": [
        {
          "name": "stdout",
          "output_type": "stream",
          "text": [
            "Accuracy of MNB classifier on training set: 0.7937\n",
            "Accuracy of MNB classifier on test set: 0.7711\n"
          ]
        }
      ],
      "source": [
        "from sklearn.naive_bayes import MultinomialNB\n",
        "\n",
        "clf = MultinomialNB().fit(X_train, y_train)\n",
        "\n",
        "predicted = clf.predict(X_test)\n",
        "# print(np.mean(predicted == stance))\n",
        "print('Accuracy of MNB classifier on training set: {:.4f}' .format(clf.score(X_train, y_train)))\n",
        "print('Accuracy of MNB classifier on test set: {:.4f}' .format(clf.score(X_test, y_test)))"
      ]
    },
    {
      "cell_type": "code",
      "execution_count": 54,
      "metadata": {
        "colab": {
          "autoexec": {
            "startup": false,
            "wait_interval": 0
          },
          "base_uri": "https://localhost:8080/",
          "height": 349
        },
        "colab_type": "code",
        "executionInfo": {
          "elapsed": 1999,
          "status": "ok",
          "timestamp": 1526411546288,
          "user": {
            "displayName": "Shreyas Shridhar",
            "photoUrl": "//lh6.googleusercontent.com/-pJUNu9HxACg/AAAAAAAAAAI/AAAAAAAAAF0/BxOxcRdX5ak/s50-c-k-no/photo.jpg",
            "userId": "117675562242009729657"
          },
          "user_tz": -330
        },
        "id": "hH73TUHMaKRP",
        "outputId": "b6b08d2e-fd63-4db8-a7a9-9448f807d5e7"
      },
      "outputs": [
        {
          "data": {
            "image/png": "[encoded data removed]",
            "text/plain": [
              "<matplotlib.figure.Figure at 0x7f6f64773e80>"
            ]
          },
          "metadata": {
            "tags": []
          },
          "output_type": "display_data"
        }
      ],
      "source": [
        "from sklearn.metrics import confusion_matrix\n",
        "import matplotlib.pyplot as plt\n",
        "import seaborn as sns\n",
        "\n",
        "conf_mat = confusion_matrix(y_test, predicted)\n",
        "fig, ax = plt.subplots(figsize=(6, 5))\n",
        "sns.heatmap(conf_mat, annot = True, fmt = 'd', xticklabels = stance, yticklabels = stance)\n",
        "plt.title('Confusion Matrix for MNB Classifier')\n",
        "plt.ylabel('Actual')\n",
        "plt.xlabel('Predicted')\n",
        "plt.show()"
      ]
    },
    {
      "cell_type": "code",
      "execution_count": 56,
      "metadata": {
        "colab": {
          "autoexec": {
            "startup": false,
            "wait_interval": 0
          },
          "base_uri": "https://localhost:8080/",
          "height": 252
        },
        "colab_type": "code",
        "executionInfo": {
          "elapsed": 838,
          "status": "ok",
          "timestamp": 1526411587184,
          "user": {
            "displayName": "Shreyas Shridhar",
            "photoUrl": "//lh6.googleusercontent.com/-pJUNu9HxACg/AAAAAAAAAAI/AAAAAAAAAF0/BxOxcRdX5ak/s50-c-k-no/photo.jpg",
            "userId": "117675562242009729657"
          },
          "user_tz": -330
        },
        "id": "LAOMJnD1fanp",
        "outputId": "001e0f98-4e2c-4465-d78f-de1a349304d5"
      },
      "outputs": [
        {
          "name": "stdout",
          "output_type": "stream",
          "text": [
            "             precision    recall  f1-score   support\n",
            "\n",
            "  unrelated       0.45      0.11      0.18       897\n",
            "      agree       0.30      0.05      0.08       205\n",
            "   disagree       0.51      0.51      0.51      2251\n",
            "    discuss       0.81      0.89      0.85      9140\n",
            "\n",
            "avg / total       0.72      0.75      0.73     12493\n",
            "\n",
            "Confusion matrix\n",
            "[[  98    8  137  654]\n",
            " [  15   10   39  141]\n",
            " [  27    4 1138 1082]\n",
            " [  79   11  908 8142]]\n"
          ]
        }
      ],
      "source": [
        "from sklearn import metrics\n",
        "\n",
        "print(metrics.classification_report(y_test, predicted, target_names = df_train_stances['Stance'].unique()))\n",
        "print('Confusion matrix')\n",
        "print(metrics.confusion_matrix(y_test, predicted))"
      ]
    },
    {
      "cell_type": "markdown",
      "metadata": {
        "colab_type": "text",
        "id": "Z3S03mpihIAd"
      },
      "source": [
        "# Logistic Regression"
      ]
    },
    {
      "cell_type": "code",
      "execution_count": 35,
      "metadata": {
        "colab": {
          "autoexec": {
            "startup": false,
            "wait_interval": 0
          },
          "base_uri": "https://localhost:8080/",
          "height": 54
        },
        "colab_type": "code",
        "executionInfo": {
          "elapsed": 22396,
          "status": "ok",
          "timestamp": 1527086245822,
          "user": {
            "displayName": "Rohith Gramani",
            "photoUrl": "https://lh3.googleusercontent.com/a/default-user=s128",
            "userId": "116081858450757398800"
          },
          "user_tz": -330
        },
        "id": "_-asdjmwO_lD",
        "outputId": "337abbfe-908f-49cd-b8a2-ef115ed2acac"
      },
      "outputs": [
        {
          "name": "stdout",
          "output_type": "stream",
          "text": [
            "Accuracy of Logistic regression classifier on training set: 0.8285\n",
            "Accuracy of Logistic regression classifier on test set: 0.8113\n"
          ]
        }
      ],
      "source": [
        "from sklearn.linear_model import LogisticRegression\n",
        "\n",
        "logreg = LogisticRegression().fit(X_train, y_train)\n",
        "\n",
        "predicted = logreg.predict(X_test)\n",
        "print('Accuracy of Logistic regression classifier on training set: {:.4f}' .format(logreg.score(X_train, y_train)))\n",
        "print('Accuracy of Logistic regression classifier on test set: {:.4f}' .format(logreg.score(X_test, y_test)))"
      ]
    },
    {
      "cell_type": "code",
      "execution_count": 10,
      "metadata": {
        "colab": {
          "autoexec": {
            "startup": false,
            "wait_interval": 0
          },
          "base_uri": "https://localhost:8080/",
          "height": 349
        },
        "colab_type": "code",
        "executionInfo": {
          "elapsed": 1111,
          "status": "ok",
          "timestamp": 1526150735503,
          "user": {
            "displayName": "Shreyas Shridhar",
            "photoUrl": "//lh6.googleusercontent.com/-pJUNu9HxACg/AAAAAAAAAAI/AAAAAAAAAF0/BxOxcRdX5ak/s50-c-k-no/photo.jpg",
            "userId": "117675562242009729657"
          },
          "user_tz": -330
        },
        "id": "LS4dZ1m1diwn",
        "outputId": "2e885c4c-e4c4-4434-e145-c101f1b5c98a"
      },
      "outputs": [
        {
          "data": {
            "image/png": "[encoded data removed]",
            "text/plain": [
              "<matplotlib.figure.Figure at 0x7fc03116ca58>"
            ]
          },
          "metadata": {
            "tags": []
          },
          "output_type": "display_data"
        }
      ],
      "source": [
        "from sklearn.metrics import confusion_matrix\n",
        "import matplotlib.pyplot as plt\n",
        "import seaborn as sns\n",
        "\n",
        "conf_mat = confusion_matrix(y_test, predicted)\n",
        "fig, ax = plt.subplots(figsize=(6, 5))\n",
        "sns.heatmap(conf_mat, annot = True, fmt = 'd', xticklabels = stance, yticklabels = stance)\n",
        "plt.title('Confusion Matrix for Logistic regression Classifier')\n",
        "plt.ylabel('Actual')\n",
        "plt.xlabel('Predicted')\n",
        "plt.show()"
      ]
    },
    {
      "cell_type": "code",
      "execution_count": 39,
      "metadata": {
        "colab": {
          "autoexec": {
            "startup": false,
            "wait_interval": 0
          },
          "base_uri": "https://localhost:8080/",
          "height": 181
        },
        "colab_type": "code",
        "executionInfo": {
          "elapsed": 653,
          "status": "ok",
          "timestamp": 1526149416047,
          "user": {
            "displayName": "Shreyas Shridhar",
            "photoUrl": "//lh6.googleusercontent.com/-pJUNu9HxACg/AAAAAAAAAAI/AAAAAAAAAF0/BxOxcRdX5ak/s50-c-k-no/photo.jpg",
            "userId": "117675562242009729657"
          },
          "user_tz": -330
        },
        "id": "AqkjT3QHdd8G",
        "outputId": "c8a24a56-cf28-49d4-999e-87b5d6754bf1"
      },
      "outputs": [
        {
          "name": "stdout",
          "output_type": "stream",
          "text": [
            "             precision    recall  f1-score   support\n",
            "\n",
            "  unrelated       0.75      0.15      0.24       897\n",
            "      agree       0.54      0.10      0.17       205\n",
            "   disagree       0.76      0.40      0.53      2251\n",
            "    discuss       0.81      0.98      0.89      9140\n",
            "\n",
            "avg / total       0.79      0.80      0.76     12493\n",
            "\n"
          ]
        }
      ],
      "source": [
        "from sklearn import metrics\n",
        "\n",
        "print(metrics.classification_report(y_test, predicted, target_names = df_train_stances['Stance'].unique()))"
      ]
    },
    {
      "cell_type": "markdown",
      "metadata": {
        "colab_type": "text",
        "id": "7FfPk8FHhcdw"
      },
      "source": [
        "# SVM"
      ]
    },
    {
      "cell_type": "code",
      "execution_count": 15,
      "metadata": {
        "colab": {
          "autoexec": {
            "startup": false,
            "wait_interval": 0
          },
          "base_uri": "https://localhost:8080/",
          "height": 51
        },
        "colab_type": "code",
        "executionInfo": {
          "elapsed": 5350089,
          "status": "ok",
          "timestamp": 1528292422633,
          "user": {
            "displayName": "Shreyas Shridhar",
            "photoUrl": "//lh6.googleusercontent.com/-pJUNu9HxACg/AAAAAAAAAAI/AAAAAAAAAF0/BxOxcRdX5ak/s50-c-k-no/photo.jpg",
            "userId": "117675562242009729657"
          },
          "user_tz": -330
        },
        "id": "NIh57MznlenV",
        "outputId": "f0f7121b-bb46-49f7-8c1a-d479973446fc"
      },
      "outputs": [
        {
          "name": "stdout",
          "output_type": "stream",
          "text": [
            "Accuracy of SVM on training set: 0.8339\n",
            "Accuracy of SVM on test set: 0.8170\n"
          ]
        }
      ],
      "source": [
        "from sklearn import svm\n",
        "\n",
        "svc = svm.SVC(kernel = 'linear', C = 1.0).fit(X_train, y_train)\n",
        "\n",
        "print('Accuracy of SVM on training set: {:.4f}' .format(svc.score(X_train, y_train)))\n",
        "print('Accuracy of SVM on test set: {:.4f}' .format(svc.score(X_test, y_test)))"
      ]
    },
    {
      "cell_type": "markdown",
      "metadata": {
        "colab_type": "text",
        "id": "TFTuNgLva2jN"
      },
      "source": [
        "# Stochastic Gradient Descent"
      ]
    },
    {
      "cell_type": "code",
      "execution_count": null,
      "metadata": {
        "colab": {
          "autoexec": {
            "startup": false,
            "wait_interval": 0
          },
          "base_uri": "https://localhost:8080/",
          "height": 218274
        },
        "colab_type": "code",
        "executionInfo": {
          "elapsed": 160025,
          "status": "ok",
          "timestamp": 1527094452197,
          "user": {
            "displayName": "Rohith Gramani",
            "photoUrl": "https://lh3.googleusercontent.com/a/default-user=s128",
            "userId": "116081858450757398800"
          },
          "user_tz": -330
        },
        "id": "UHhv5AybYR-F",
        "outputId": "c6510ec0-eb81-42dc-86ef-8d4b6845dfba"
      },
      "outputs": [],
      "source": [
        "from sklearn.linear_model import SGDClassifier\n",
        "\n",
        "sgd = SGDClassifier(loss='perceptron', penalty='l2', n_jobs=-1, max_iter=1000, warm_start=True, verbose=True).fit(X_train, y_train)\n",
        "\n",
        "print('Accuracy of SGD on training set: {:.4f}' .format(sgd.score(X_train, y_train)))\n",
        "print('Accuracy of SGD on test set: {:.4f}' .format(sgd.score(X_test, y_test)))"
      ]
    },
    {
      "cell_type": "code",
      "execution_count": 220,
      "metadata": {
        "colab": {
          "autoexec": {
            "startup": false,
            "wait_interval": 0
          },
          "base_uri": "https://localhost:8080/",
          "height": 349
        },
        "colab_type": "code",
        "executionInfo": {
          "elapsed": 847,
          "status": "ok",
          "timestamp": 1526220216905,
          "user": {
            "displayName": "Shreyas Shridhar",
            "photoUrl": "//lh6.googleusercontent.com/-pJUNu9HxACg/AAAAAAAAAAI/AAAAAAAAAF0/BxOxcRdX5ak/s50-c-k-no/photo.jpg",
            "userId": "117675562242009729657"
          },
          "user_tz": -330
        },
        "id": "YTHLgbuMt5CA",
        "outputId": "3af2b365-3133-4fbe-854c-fd6c940baf0e"
      },
      "outputs": [
        {
          "data": {
            "image/png": "[encoded data removed]",
            "text/plain": [
              "<matplotlib.figure.Figure at 0x7fe679d7d630>"
            ]
          },
          "metadata": {
            "tags": []
          },
          "output_type": "display_data"
        }
      ],
      "source": [
        "from sklearn.metrics import confusion_matrix\n",
        "import matplotlib.pyplot as plt\n",
        "import seaborn as sns\n",
        "\n",
        "predicted = sgd.predict(X_test)\n",
        "conf_mat = confusion_matrix(y_test, predicted)\n",
        "fig, ax = plt.subplots(figsize=(6, 5))\n",
        "sns.heatmap(conf_mat, annot=True, fmt='d')\n",
        "plt.title('Confusion Matrix for SGD')\n",
        "plt.ylabel('Actual')\n",
        "plt.xlabel('Predicted')\n",
        "plt.show()"
      ]
    },
    {
      "cell_type": "code",
      "execution_count": 221,
      "metadata": {
        "colab": {
          "autoexec": {
            "startup": false,
            "wait_interval": 0
          },
          "base_uri": "https://localhost:8080/",
          "height": 168
        },
        "colab_type": "code",
        "executionInfo": {
          "elapsed": 761,
          "status": "ok",
          "timestamp": 1526220685280,
          "user": {
            "displayName": "Shreyas Shridhar",
            "photoUrl": "//lh6.googleusercontent.com/-pJUNu9HxACg/AAAAAAAAAAI/AAAAAAAAAF0/BxOxcRdX5ak/s50-c-k-no/photo.jpg",
            "userId": "117675562242009729657"
          },
          "user_tz": -330
        },
        "id": "5r3_SrS911Yd",
        "outputId": "386768d9-e225-48d4-e2f7-0ec1059fb46c"
      },
      "outputs": [
        {
          "name": "stdout",
          "output_type": "stream",
          "text": [
            "             precision    recall  f1-score   support\n",
            "\n",
            "  unrelated       0.77      0.73      0.75       897\n",
            "      agree       0.49      0.41      0.45       205\n",
            "   disagree       0.88      0.86      0.87      2251\n",
            "    discuss       0.96      0.97      0.96      9140\n",
            "\n",
            "avg / total       0.92      0.92      0.92     12493\n",
            "\n"
          ]
        }
      ],
      "source": [
        "from sklearn import metrics\n",
        "\n",
        "print(metrics.classification_report(y_test, predicted, target_names = df_train_stances['Stance'].unique()))"
      ]
    },
    {
      "cell_type": "markdown",
      "metadata": {
        "colab_type": "text",
        "id": "zA75fuXu4kG7"
      },
      "source": [
        "# Gradiant Boost"
      ]
    },
    {
      "cell_type": "code",
      "execution_count": null,
      "metadata": {
        "colab": {
          "autoexec": {
            "startup": false,
            "wait_interval": 0
          }
        },
        "colab_type": "code",
        "id": "kMKPG9YOiTTo"
      },
      "outputs": [],
      "source": [
        "from sklearn.ensemble import GradientBoostingClassifier\n",
        "\n",
        "clf = GradientBoostingClassifier(verbose=True).fit(X_train, y_train)\n",
        "\n",
        "print('Accuracy of Gradient Boosting classifier on training set: {:.4f}' .format(logreg.score(X_train, y_train)))\n",
        "print('Accuracy of Gradient Boosting classifier on test set: {:.4f}' .format(logreg.score(X_test, y_test)))"
      ]
    },
    {
      "cell_type": "markdown",
      "metadata": {
        "colab_type": "text",
        "id": "BRLmsvKvGgTY"
      },
      "source": [
        "# MultiLayer Perceptron"
      ]
    },
    {
      "cell_type": "code",
      "execution_count": 45,
      "metadata": {
        "colab": {
          "autoexec": {
            "startup": false,
            "wait_interval": 0
          },
          "base_uri": "https://localhost:8080/",
          "height": 963
        },
        "colab_type": "code",
        "executionInfo": {
          "elapsed": 7011660,
          "status": "ok",
          "timestamp": 1527094048135,
          "user": {
            "displayName": "Rohith Gramani",
            "photoUrl": "https://lh3.googleusercontent.com/a/default-user=s128",
            "userId": "116081858450757398800"
          },
          "user_tz": -330
        },
        "id": "690wjQ9Q0jsv",
        "outputId": "0466b263-34cc-40b6-df27-e29618f512a5"
      },
      "outputs": [
        {
          "name": "stdout",
          "output_type": "stream",
          "text": [
            "Iteration 1, loss = 0.66931392\n",
            "Iteration 2, loss = 0.47774930\n",
            "Iteration 3, loss = 0.43698050\n",
            "Iteration 4, loss = 0.40888575\n",
            "Iteration 5, loss = 0.38315539\n",
            "Iteration 6, loss = 0.35924128\n",
            "Iteration 7, loss = 0.33531526\n",
            "Iteration 8, loss = 0.31248813\n",
            "Iteration 9, loss = 0.28911678\n",
            "Iteration 10, loss = 0.26787853\n",
            "Iteration 11, loss = 0.24777348\n",
            "Iteration 12, loss = 0.22825789\n",
            "Iteration 13, loss = 0.21034291\n",
            "Iteration 14, loss = 0.19511470\n",
            "Iteration 15, loss = 0.18136369\n",
            "Iteration 16, loss = 0.16887260\n",
            "Iteration 17, loss = 0.15756523\n",
            "Iteration 18, loss = 0.14687826\n",
            "Iteration 19, loss = 0.13741148\n",
            "Iteration 20, loss = 0.12914854\n",
            "Iteration 21, loss = 0.12138111\n",
            "Iteration 22, loss = 0.11343920\n",
            "Iteration 23, loss = 0.10938653\n",
            "Iteration 24, loss = 0.10193712\n",
            "Iteration 25, loss = 0.09781504\n",
            "Iteration 26, loss = 0.09281389\n",
            "Iteration 27, loss = 0.08924845\n",
            "Iteration 28, loss = 0.08532757\n",
            "Iteration 29, loss = 0.08066088\n",
            "Iteration 30, loss = 0.07783541\n",
            "Iteration 31, loss = 0.07510243\n",
            "Iteration 32, loss = 0.07288654\n",
            "Iteration 33, loss = 0.07056319\n",
            "Iteration 34, loss = 0.06686557\n",
            "Iteration 35, loss = 0.06749230\n",
            "Iteration 36, loss = 0.06325202\n",
            "Iteration 37, loss = 0.06149402\n",
            "Iteration 38, loss = 0.06062191\n",
            "Iteration 39, loss = 0.06195010\n",
            "Iteration 40, loss = 0.06000713\n",
            "Iteration 41, loss = 0.06057069\n",
            "Iteration 42, loss = 0.05606557\n",
            "Iteration 43, loss = 0.05719394\n",
            "Iteration 44, loss = 0.05656419\n",
            "Iteration 45, loss = 0.05415144\n",
            "Iteration 46, loss = 0.05203613\n",
            "Iteration 47, loss = 0.05025436\n",
            "Iteration 48, loss = 0.04751465\n",
            "Iteration 49, loss = 0.04799854\n",
            "Iteration 50, loss = 0.04929563\n",
            "Iteration 51, loss = 0.05033670\n",
            "Training loss did not improve more than tol=0.000100 for two consecutive epochs. Stopping.\n"
          ]
        }
      ],
      "source": [
        "from sklearn.neural_network import MLPClassifier\n",
        "\n",
        "clf = MLPClassifier(verbose=True).fit(X_train, y_train)"
      ]
    },
    {
      "cell_type": "code",
      "execution_count": 10,
      "metadata": {
        "colab": {
          "autoexec": {
            "startup": false,
            "wait_interval": 0
          },
          "base_uri": "https://localhost:8080/",
          "height": 35
        },
        "colab_type": "code",
        "executionInfo": {
          "elapsed": 605,
          "status": "ok",
          "timestamp": 1527050526947,
          "user": {
            "displayName": "Rohith Gramani",
            "photoUrl": "https://lh3.googleusercontent.com/a/default-user=s128",
            "userId": "116081858450757398800"
          },
          "user_tz": -330
        },
        "id": "dQb4jY0CCez4",
        "outputId": "df81bbe5-f097-423c-c4a5-bd6600aeb780"
      },
      "outputs": [
        {
          "name": "stdout",
          "output_type": "stream",
          "text": [
            "['unrelated']\n"
          ]
        }
      ],
      "source": [
        "predicted = clf.predict(X_test[9])\n",
        "print(predicted)"
      ]
    },
    {
      "cell_type": "code",
      "execution_count": 11,
      "metadata": {
        "colab": {
          "autoexec": {
            "startup": false,
            "wait_interval": 0
          },
          "base_uri": "https://localhost:8080/",
          "height": 35
        },
        "colab_type": "code",
        "executionInfo": {
          "elapsed": 1260,
          "status": "ok",
          "timestamp": 1527050531432,
          "user": {
            "displayName": "Rohith Gramani",
            "photoUrl": "https://lh3.googleusercontent.com/a/default-user=s128",
            "userId": "116081858450757398800"
          },
          "user_tz": -330
        },
        "id": "3c6eK6YSfIJb",
        "outputId": "1d7473e7-a679-4864-95f5-6417a72ba608"
      },
      "outputs": [
        {
          "name": "stdout",
          "output_type": "stream",
          "text": [
            "[ True]\n"
          ]
        }
      ],
      "source": [
        "print(predicted == y_test[9])"
      ]
    },
    {
      "cell_type": "code",
      "execution_count": 47,
      "metadata": {
        "colab": {
          "autoexec": {
            "startup": false,
            "wait_interval": 0
          },
          "base_uri": "https://localhost:8080/",
          "height": 54
        },
        "colab_type": "code",
        "executionInfo": {
          "elapsed": 3843,
          "status": "ok",
          "timestamp": 1527094087945,
          "user": {
            "displayName": "Rohith Gramani",
            "photoUrl": "https://lh3.googleusercontent.com/a/default-user=s128",
            "userId": "116081858450757398800"
          },
          "user_tz": -330
        },
        "id": "ijeme9SL0oan",
        "outputId": "d142dded-0f54-45c4-e707-3b6ba58519e2"
      },
      "outputs": [
        {
          "name": "stdout",
          "output_type": "stream",
          "text": [
            "Accuracy of MLP on training set: 0.9931\n",
            "Accuracy of MLP on test set: 0.9286\n"
          ]
        }
      ],
      "source": [
        "print('Accuracy of MLP on training set: {:.4f}' .format(clf.score(X_train, y_train)))\n",
        "print('Accuracy of MLP on test set: {:.4f}' .format(clf.score(X_test, y_test)))"
      ]
    },
    {
      "cell_type": "code",
      "execution_count": 13,
      "metadata": {
        "colab": {
          "autoexec": {
            "startup": false,
            "wait_interval": 0
          },
          "base_uri": "https://localhost:8080/",
          "height": 349
        },
        "colab_type": "code",
        "executionInfo": {
          "elapsed": 2320,
          "status": "ok",
          "timestamp": 1527050543795,
          "user": {
            "displayName": "Rohith Gramani",
            "photoUrl": "https://lh3.googleusercontent.com/a/default-user=s128",
            "userId": "116081858450757398800"
          },
          "user_tz": -330
        },
        "id": "pIKE6XbsR-1E",
        "outputId": "812d9b82-cc06-47d6-e8c4-c34f9213073c"
      },
      "outputs": [
        {
          "data": {
            "image/png": "[encoded data removed]",
            "text/plain": [
              "<matplotlib.figure.Figure at 0x7fb735236eb8>"
            ]
          },
          "metadata": {
            "tags": []
          },
          "output_type": "display_data"
        }
      ],
      "source": [
        "from sklearn.metrics import confusion_matrix\n",
        "import matplotlib.pyplot as plt\n",
        "import seaborn as sns\n",
        "\n",
        "predicted = clf.predict(X_test)\n",
        "conf_mat = confusion_matrix(y_test, predicted)\n",
        "fig, ax = plt.subplots(figsize=(6, 5))\n",
        "sns.heatmap(conf_mat, annot=True, fmt='d', xticklabels=['agree', 'disagree', 'discuss', 'unrelated'], yticklabels=['agree', 'disagree', 'discuss', 'unrelated'])\n",
        "plt.title('Confusion Matrix for MLP')\n",
        "plt.ylabel('Actual')\n",
        "plt.xlabel('Predicted')\n",
        "plt.show()"
      ]
    },
    {
      "cell_type": "code",
      "execution_count": null,
      "metadata": {
        "colab": {
          "autoexec": {
            "startup": false,
            "wait_interval": 0
          }
        },
        "colab_type": "code",
        "id": "INGiZMqTSpQr"
      },
      "outputs": [],
      "source": [
        "from sklearn import metrics\n",
        "\n",
        "print(metrics.classification_report(y_test, predicted, target_names = df_train_stances['Stance'].unique()))"
      ]
    },
    {
      "cell_type": "code",
      "execution_count": 1,
      "metadata": {
        "colab": {
          "autoexec": {
            "startup": false,
            "wait_interval": 0
          },
          "base_uri": "https://localhost:8080/",
          "height": 376
        },
        "colab_type": "code",
        "executionInfo": {
          "elapsed": 3039,
          "status": "ok",
          "timestamp": 1528306860189,
          "user": {
            "displayName": "Rohith Gramani",
            "photoUrl": "https://lh3.googleusercontent.com/a/default-user=s128",
            "userId": "116081858450757398800"
          },
          "user_tz": -330
        },
        "id": "8tnf_6FOzIaL",
        "outputId": "b86e06b8-2920-48ad-d7c9-a562c920abac"
      },
      "outputs": [
        {
          "data": {
            "image/png": "[encoded data removed]",
            "text/plain": [
              "<matplotlib.figure.Figure at 0x7f311c5b44e0>"
            ]
          },
          "metadata": {
            "tags": []
          },
          "output_type": "display_data"
        }
      ],
      "source": [
        "import numpy as np\n",
        "import matplotlib.pyplot as plt\n",
        "\n",
        "a = [76.09, 76.00,\t75.80]\n",
        "b = [81.79,\t81.37,\t81.79]\n",
        "c = [83.05,\t82.75,\t81.60]\n",
        "d = [96.31,\t96.61,\t95.80]\n",
        "e = [99,\t99,\t98.99]\n",
        "\n",
        "plt.xlabel('Different splits')\n",
        "plt.ylabel('Accuracy')\n",
        "plt.title('Train set')\n",
        "plt.xticks([0,1,2,3],['Unigram 60-40', 'Unigram 70-30', 'Unigram 80-20'])\n",
        "\n",
        "plt.plot(a, ':', label='NB', linewidth=2)\n",
        "plt.plot(b, label='LR', linewidth=2)\n",
        "plt.plot(c, '--', label='SVM', linewidth=2)\n",
        "plt.plot(d, '-.', label='SGD', linewidth=2)\n",
        "plt.plot(e, 's-', label='MLP', linewidth=2)\n",
        "plt.legend()\n",
        "\n",
        "plt.legend(loc=10)\n",
        "plt.show()"
      ]
    },
    {
      "cell_type": "code",
      "execution_count": 1,
      "metadata": {
        "colab": {
          "autoexec": {
            "startup": false,
            "wait_interval": 0
          },
          "base_uri": "https://localhost:8080/",
          "height": 376
        },
        "colab_type": "code",
        "executionInfo": {
          "elapsed": 3447,
          "status": "ok",
          "timestamp": 1528467767216,
          "user": {
            "displayName": "Rohith Gramani",
            "photoUrl": "https://lh3.googleusercontent.com/a/default-user=s128",
            "userId": "116081858450757398800"
          },
          "user_tz": -330
        },
        "id": "BD5mpq9Ym3bN",
        "outputId": "1f36f921-3468-4075-d197-e0fab425c707"
      },
      "outputs": [
        {
          "data": {
            "image/png": "[encoded data removed]",
            "text/plain": [
              "<matplotlib.figure.Figure at 0x7f7ac57d64e0>"
            ]
          },
          "metadata": {
            "tags": []
          },
          "output_type": "display_data"
        }
      ],
      "source": [
        "#testing\n",
        "import numpy as np\n",
        "import matplotlib.pyplot as plt\n",
        "\n",
        "a = [75.86, 75.39, 74.62]\n",
        "b = [80.27, 80.24, 80.27]\n",
        "c = [82.67, 81.41, 80.45]\n",
        "d = [92.17, 92.30, 91.80]\n",
        "e = [94, 95.6, 95.43]\n",
        "\n",
        "plt.xlabel('Different splits')\n",
        "plt.ylabel('Accuracy')\n",
        "plt.title('Test set')\n",
        "plt.xticks([0,1,2,3],['Unigram 60-40', 'Unigram 70-30', 'Unigram 80-20'])\n",
        "\n",
        "plt.plot(a, ':', label='NB', linewidth=2)\n",
        "plt.plot(b, label='LR', linewidth=2)\n",
        "plt.plot(c, '--', label='SVM', linewidth=2)\n",
        "plt.plot(d, '-.', label='SGD', linewidth=2)\n",
        "plt.plot(e, 's-', label='MLP', linewidth=2)\n",
        "plt.legend()\n",
        "\n",
        "plt.legend(loc=10)\n",
        "plt.show()"
      ]
    },
    {
      "cell_type": "code",
      "execution_count": 4,
      "metadata": {
        "colab": {
          "autoexec": {
            "startup": false,
            "wait_interval": 0
          },
          "base_uri": "https://localhost:8080/",
          "height": 376
        },
        "colab_type": "code",
        "executionInfo": {
          "elapsed": 1296,
          "status": "ok",
          "timestamp": 1528468149516,
          "user": {
            "displayName": "Rohith Gramani",
            "photoUrl": "https://lh3.googleusercontent.com/a/default-user=s128",
            "userId": "116081858450757398800"
          },
          "user_tz": -330
        },
        "id": "xPBSSJ2PMOW1",
        "outputId": "3c29fa41-2aaa-4ac5-9e46-21a660c799de"
      },
      "outputs": [
        {
          "data": {
            "image/png": "[encoded data removed]",
            "text/plain": [
              "<matplotlib.figure.Figure at 0x7f7ac57caf28>"
            ]
          },
          "metadata": {
            "tags": []
          },
          "output_type": "display_data"
        }
      ],
      "source": [
        "#Bigram Train\n",
        "import numpy as np\n",
        "import matplotlib.pyplot as plt\n",
        "\n",
        "a = [79.99, 79.64, 79.37]\n",
        "b = [82.16,\t82.46, 82.85]\n",
        "c = [83.07,\t83.50, 83.39]\n",
        "d = [99.51,\t99.55, 99.75]\n",
        "e = [99.29,\t99.31, 99.32]\n",
        "\n",
        "plt.xlabel('Different splits')\n",
        "plt.ylabel('Accuracy')\n",
        "plt.title('Train set')\n",
        "plt.xticks([0,1,2,3],['Bigram 60-40', 'Bigram 70-30', 'Bigram 80-20'])\n",
        "\n",
        "plt.plot(a, ':', label='NB', linewidth=2)\n",
        "plt.plot(b, label='LR', linewidth=2)\n",
        "plt.plot(c, '--', label='SVM', linewidth=2)\n",
        "plt.plot(d, '-.', label='SGD', linewidth=2)\n",
        "plt.plot(e, 's-', label='MLP', linewidth=2)\n",
        "plt.legend()\n",
        "\n",
        "plt.legend(loc=10)\n",
        "plt.show()\n"
      ]
    },
    {
      "cell_type": "code",
      "execution_count": 3,
      "metadata": {
        "colab": {
          "autoexec": {
            "startup": false,
            "wait_interval": 0
          },
          "base_uri": "https://localhost:8080/",
          "height": 376
        },
        "colab_type": "code",
        "executionInfo": {
          "elapsed": 1275,
          "status": "ok",
          "timestamp": 1528467797251,
          "user": {
            "displayName": "Rohith Gramani",
            "photoUrl": "https://lh3.googleusercontent.com/a/default-user=s128",
            "userId": "116081858450757398800"
          },
          "user_tz": -330
        },
        "id": "qhzQBw6FNT9a",
        "outputId": "c2254dcd-a4da-429b-c6b4-1202949eb8dd"
      },
      "outputs": [
        {
          "data": {
            "image/png": "[encoded data removed]",
            "text/plain": [
              "<matplotlib.figure.Figure at 0x7f7ac36f5b00>"
            ]
          },
          "metadata": {
            "tags": []
          },
          "output_type": "display_data"
        }
      ],
      "source": [
        "#Bigram Test\n",
        "import numpy as np\n",
        "import matplotlib.pyplot as plt\n",
        "\n",
        "a = [78.12,\t77.59, 77.11]\n",
        "b = [80.85,\t80.88, 81.13]\n",
        "c = [81.67,\t82.45, 81.70]\n",
        "d = [85.85,\t86.45, 87.38]\n",
        "e = [91.33, 92.86, 93.52]\n",
        "\n",
        "plt.xlabel('Different splits')\n",
        "plt.ylabel('Accuracy')\n",
        "plt.title('Test set')\n",
        "plt.xticks([0,1,2,3],['Bigram 60-40', 'Bigram 70-30', 'Bigram 80-20'])\n",
        "\n",
        "plt.plot(a, ':', label='NB', linewidth=2)\n",
        "plt.plot(b, label='LR', linewidth=2)\n",
        "plt.plot(c, '--', label='SVM', linewidth=2)\n",
        "plt.plot(d, '-.', label='SGD', linewidth=2)\n",
        "plt.plot(e, 's-', label='MLP', linewidth=2)\n",
        "plt.legend()\n",
        "\n",
        "plt.legend(loc=10)\n",
        "plt.show()"
      ]
    }
  ],
  "metadata": {
    "colab": {
      "collapsed_sections": [],
      "default_view": {},
      "name": "Project.ipynb",
      "provenance": [],
      "version": "0.3.2",
      "views": {}
    },
    "kernelspec": {
      "display_name": "Python 3",
      "name": "python3"
    }
  },
  "nbformat": 4,
  "nbformat_minor": 0
}
